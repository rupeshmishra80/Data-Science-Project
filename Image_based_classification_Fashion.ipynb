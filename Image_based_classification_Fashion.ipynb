{
  "nbformat": 4,
  "nbformat_minor": 0,
  "metadata": {
    "kernelspec": {
      "display_name": "Python 3",
      "language": "python",
      "name": "python3"
    },
    "language_info": {
      "codemirror_mode": {
        "name": "ipython",
        "version": 3
      },
      "file_extension": ".py",
      "mimetype": "text/x-python",
      "name": "python",
      "nbconvert_exporter": "python",
      "pygments_lexer": "ipython3",
      "version": "3.7.1"
    },
    "colab": {
      "name": "Half-sleeve.ipynb",
      "provenance": [],
      "collapsed_sections": []
    }
  },
  "cells": [
    {
      "cell_type": "code",
      "metadata": {
        "id": "740sv9_zmx4b",
        "outputId": "15bcf7d0-8c73-48c4-ceba-7bdd8ad9317a",
        "colab": {
          "base_uri": "https://localhost:8080/",
          "height": 34
        }
      },
      "source": [
        "%matplotlib inline\n",
        "\n",
        "import os\n",
        "import shutil\n",
        "import random\n",
        "import torch\n",
        "import torchvision\n",
        "import numpy as np\n",
        "\n",
        "from PIL import Image\n",
        "from matplotlib import pyplot as plt\n",
        "\n",
        "torch.manual_seed(0)\n",
        "\n",
        "print('Using PyTorch version', torch.__version__)"
      ],
      "execution_count": 49,
      "outputs": [
        {
          "output_type": "stream",
          "text": [
            "Using PyTorch version 1.6.0+cu101\n"
          ],
          "name": "stdout"
        }
      ]
    },
    {
      "cell_type": "code",
      "metadata": {
        "id": "1AbX-hzImx4j",
        "outputId": "56310d42-8d37-4cf0-f604-e7263ea9177f",
        "colab": {
          "base_uri": "https://localhost:8080/",
          "height": 34
        }
      },
      "source": [
        "TARGET_DIR=\"/content/Dataset/halfsleeve\"\n",
        "\n",
        "if not os.path.exists(TARGET_DIR):\n",
        "    os.mkdir(TARGET_DIR)\n",
        "    print(\"halfsleeve folder created\")"
      ],
      "execution_count": 3,
      "outputs": [
        {
          "output_type": "stream",
          "text": [
            "halfsleeve folder created\n"
          ],
          "name": "stdout"
        }
      ]
    },
    {
      "cell_type": "code",
      "metadata": {
        "id": "X8fSjtWmWGG2",
        "outputId": "741a3835-b283-451b-e614-f46d1cae5bdc",
        "colab": {
          "base_uri": "https://localhost:8080/",
          "height": 34
        }
      },
      "source": [
        "TARGET_DIR=\"/content/Dataset/nosleeve\"\n",
        "\n",
        "if not os.path.exists(TARGET_DIR):\n",
        "    os.mkdir(TARGET_DIR)\n",
        "    print(\"nosleeve folder created\")"
      ],
      "execution_count": 4,
      "outputs": [
        {
          "output_type": "stream",
          "text": [
            "nosleeve folder created\n"
          ],
          "name": "stdout"
        }
      ]
    },
    {
      "cell_type": "code",
      "metadata": {
        "id": "KqW0VqtaWGRN",
        "outputId": "d5b3d0d7-8137-429f-d292-5f0936e889e9",
        "colab": {
          "base_uri": "https://localhost:8080/",
          "height": 34
        }
      },
      "source": [
        "TARGET_DIR=\"/content/Dataset/threebyfour\"\n",
        "\n",
        "if not os.path.exists(TARGET_DIR):\n",
        "    os.mkdir(TARGET_DIR)\n",
        "    print(\"threebyfour folder created\")"
      ],
      "execution_count": 5,
      "outputs": [
        {
          "output_type": "stream",
          "text": [
            "threebyfour folder created\n"
          ],
          "name": "stdout"
        }
      ]
    },
    {
      "cell_type": "code",
      "metadata": {
        "id": "WPs4t-38mx4n"
      },
      "source": [
        "FILE_PATH='/content/Dataset/sleeves_halfsleeveshirt'\n",
        "TARGET_halfsleeve_DIR=\"/content/Dataset/halfsleeve\"\n",
        "IMAGES_PATH='/content/Dataset/sleeves_halfsleeveshirt'\n",
        "image_names= os.listdir(FILE_PATH)\n",
        "#image_names"
      ],
      "execution_count": 6,
      "outputs": []
    },
    {
      "cell_type": "code",
      "metadata": {
        "id": "WJArYuPgmx4r"
      },
      "source": [
        "for i in range(90):\n",
        "    image_name=image_names[i]\n",
        "    image_path=os.path.join(FILE_PATH,image_name)\n",
        "    target_path=os.path.join(TARGET_halfsleeve_DIR,image_name)\n",
        "    shutil.copy2(image_path,target_path)\n",
        "    #print(\"copying image\",i)"
      ],
      "execution_count": 7,
      "outputs": []
    },
    {
      "cell_type": "code",
      "metadata": {
        "id": "vtPY6Jmtmx4v",
        "outputId": "bb15ba29-9ffe-46d5-a8b2-00f7ac496439",
        "colab": {
          "base_uri": "https://localhost:8080/",
          "height": 34
        }
      },
      "source": [
        "FILE_PATH_nosleeve=\"/content/Dataset/sleeves_tshirtnosleeve\"\n",
        "TARGET_nosleeve_DIR=\"/content/Dataset/nosleeve\"\n",
        "IMAGES_PATH_nosleeve=\"/content/Dataset/sleeves_tshirtnosleeve\"\n",
        "image_names= os.listdir(FILE_PATH_nosleeve)\n",
        "print(len(image_names))"
      ],
      "execution_count": 8,
      "outputs": [
        {
          "output_type": "stream",
          "text": [
            "306\n"
          ],
          "name": "stdout"
        }
      ]
    },
    {
      "cell_type": "code",
      "metadata": {
        "id": "fZc-6xUMmx41"
      },
      "source": [
        "for i in range(len(image_names)):\n",
        "    image_name=image_names[i]\n",
        "    image_path=os.path.join(FILE_PATH_nosleeve,image_name)\n",
        "    target_path=os.path.join(TARGET_nosleeve_DIR,image_name)\n",
        "    shutil.copy2(image_path,target_path)\n",
        "    #print(\"copying image\",i)"
      ],
      "execution_count": 9,
      "outputs": []
    },
    {
      "cell_type": "code",
      "metadata": {
        "id": "H4zAfAfWmx46"
      },
      "source": [
        "FILE_PATH_threebyfour=\"/content/Dataset/sleeves_tshirtthreebyfourSleeve\"\n",
        "TARGET_threebyfour_DIR=\"/content/Dataset/threebyfour\"\n",
        "IMAGES_PATH_threebyfour=\"/content/Dataset/sleeves_tshirtthreebyfourSleeve\"\n",
        "image_names= os.listdir(FILE_PATH_threebyfour)\n",
        "#image_names"
      ],
      "execution_count": 10,
      "outputs": []
    },
    {
      "cell_type": "code",
      "metadata": {
        "id": "IZsIqY9qmx4-"
      },
      "source": [
        "for i in range(len(image_names)):\n",
        "    image_name=image_names[i]\n",
        "    image_path=os.path.join(FILE_PATH_threebyfour,image_name)\n",
        "    target_path=os.path.join(TARGET_threebyfour_DIR,image_name)\n",
        "    shutil.copy2(image_path,target_path)\n",
        "    #print(\"copying image\",i)"
      ],
      "execution_count": 11,
      "outputs": []
    },
    {
      "cell_type": "code",
      "metadata": {
        "id": "E10hiTctmx5C"
      },
      "source": [
        "class_names = ['halfsleeve', 'nosleeve', 'threebyfour']\n",
        "root_dir = '/content/Dataset'\n",
        "source_dirs = ['halfsleeve', 'nosleeve', 'threebyfour']\n",
        "\n",
        "if os.path.isdir(os.path.join(root_dir, source_dirs[1])):\n",
        "    os.mkdir(os.path.join(root_dir, 'test'))\n",
        "\n",
        "    for i, d in enumerate(source_dirs):\n",
        "        os.rename(os.path.join(root_dir, d), os.path.join(root_dir, class_names[i]))\n",
        "\n",
        "    for c in class_names:\n",
        "        os.mkdir(os.path.join(root_dir, 'test', c))\n",
        "\n",
        "    for c in class_names:\n",
        "        images = [x for x in os.listdir(os.path.join(root_dir, c)) if x.lower().endswith('jpg')]\n",
        "        selected_images = random.sample(images, 30)\n",
        "        for image in selected_images:\n",
        "            source_path = os.path.join(root_dir, c, image)\n",
        "            target_path = os.path.join(root_dir, 'test', c, image)\n",
        "            shutil.move(source_path, target_path)"
      ],
      "execution_count": 12,
      "outputs": []
    },
    {
      "cell_type": "code",
      "metadata": {
        "id": "pSyASQgSmx5H"
      },
      "source": [
        "class ClothData(torch.utils.data.Dataset):\n",
        "    def __init__(self, image_dirs, transform):\n",
        "        def get_images(class_name):\n",
        "            images = [x for x in os.listdir(image_dirs[class_name]) if x[-3:].lower().endswith('jpg')]\n",
        "            print(f'Found {len(images)} {class_name} examples')\n",
        "            return images\n",
        "        \n",
        "        self.images = {}\n",
        "        self.class_names = ['halfsleeve', 'nosleeve', 'threebyfour']\n",
        "        \n",
        "        for class_name in self.class_names:\n",
        "            self.images[class_name] = get_images(class_name)\n",
        "            \n",
        "        self.image_dirs = image_dirs\n",
        "        self.transform = transform\n",
        "        \n",
        "    \n",
        "    def __len__(self):\n",
        "        return sum([len(self.images[class_name]) for class_name in self.class_names])\n",
        "    \n",
        "    \n",
        "    def __getitem__(self, index):\n",
        "        class_name = random.choice(self.class_names)\n",
        "        index = index % len(self.images[class_name])\n",
        "        image_name = self.images[class_name][index]\n",
        "        image_path = os.path.join(self.image_dirs[class_name], image_name)\n",
        "        image = Image.open(image_path).convert('RGB')\n",
        "        return self.transform(image), self.class_names.index(class_name)"
      ],
      "execution_count": 13,
      "outputs": []
    },
    {
      "cell_type": "code",
      "metadata": {
        "id": "W6eb9FP0mx5L"
      },
      "source": [
        "train_transform = torchvision.transforms.Compose([\n",
        "    torchvision.transforms.Resize(size=(224, 224)),\n",
        "    torchvision.transforms.RandomHorizontalFlip(),\n",
        "    torchvision.transforms.ToTensor(),\n",
        "    torchvision.transforms.Normalize(mean=[0.485, 0.456, 0.406], std=[0.229, 0.224, 0.225])\n",
        "])\n",
        "\n",
        "test_transform = torchvision.transforms.Compose([\n",
        "    torchvision.transforms.Resize(size=(224, 224)),\n",
        "    torchvision.transforms.ToTensor(),\n",
        "    torchvision.transforms.Normalize([0.485, 0.456, 0.406], [0.229, 0.224, 0.225])\n",
        "])"
      ],
      "execution_count": 14,
      "outputs": []
    },
    {
      "cell_type": "code",
      "metadata": {
        "id": "fO0WRuFwmx5O",
        "outputId": "4fb4a7cf-47b2-46db-d1f2-2ec0dc331658",
        "colab": {
          "base_uri": "https://localhost:8080/",
          "height": 70
        }
      },
      "source": [
        "train_dirs = {\n",
        "    'halfsleeve': 'Dataset/halfsleeve',\n",
        "    'nosleeve': 'Dataset/nosleeve',\n",
        "    'threebyfour': 'Dataset/threebyfour'\n",
        "}\n",
        "\n",
        "train_dataset = ClothData(train_dirs, train_transform)"
      ],
      "execution_count": 15,
      "outputs": [
        {
          "output_type": "stream",
          "text": [
            "Found 58 halfsleeve examples\n",
            "Found 264 nosleeve examples\n",
            "Found 288 threebyfour examples\n"
          ],
          "name": "stdout"
        }
      ]
    },
    {
      "cell_type": "code",
      "metadata": {
        "id": "9GHFztLEmx5R",
        "outputId": "032be911-8952-4372-e8c9-e84e51d025c0",
        "colab": {
          "base_uri": "https://localhost:8080/",
          "height": 70
        }
      },
      "source": [
        "test_dirs = {\n",
        "    'halfsleeve': 'Dataset/test/halfsleeve',\n",
        "    'nosleeve': 'Dataset/test/nosleeve',\n",
        "    'threebyfour': 'Dataset/test/threebyfour'\n",
        "}\n",
        "\n",
        "test_dataset = ClothData(test_dirs, test_transform)\n"
      ],
      "execution_count": 16,
      "outputs": [
        {
          "output_type": "stream",
          "text": [
            "Found 30 halfsleeve examples\n",
            "Found 30 nosleeve examples\n",
            "Found 30 threebyfour examples\n"
          ],
          "name": "stdout"
        }
      ]
    },
    {
      "cell_type": "code",
      "metadata": {
        "id": "8BO8lAbCmx5V",
        "outputId": "7f432c65-f6fb-4bfa-f4e7-9685b148c6ec",
        "colab": {
          "base_uri": "https://localhost:8080/",
          "height": 52
        }
      },
      "source": [
        "batch_size = 6\n",
        "\n",
        "dl_train = torch.utils.data.DataLoader(train_dataset, batch_size=batch_size, shuffle=True)\n",
        "dl_test = torch.utils.data.DataLoader(test_dataset, batch_size=batch_size, shuffle=True)\n",
        "\n",
        "print('Number of training batches', len(dl_train))\n",
        "print('Number of test batches', len(dl_test))"
      ],
      "execution_count": 17,
      "outputs": [
        {
          "output_type": "stream",
          "text": [
            "Number of training batches 102\n",
            "Number of test batches 15\n"
          ],
          "name": "stdout"
        }
      ]
    },
    {
      "cell_type": "code",
      "metadata": {
        "id": "ryzxVtfnmx5Z"
      },
      "source": [
        "class_names = train_dataset.class_names\n",
        "\n",
        "\n",
        "def show_images(images, labels, preds):\n",
        "    plt.figure(figsize=(8, 4))\n",
        "    for i, image in enumerate(images):\n",
        "        plt.subplot(1, 6, i + 1, xticks=[], yticks=[])\n",
        "        image = image.numpy().transpose((1, 2, 0))\n",
        "        mean = np.array([0.485, 0.456, 0.406])\n",
        "        std = np.array([0.229, 0.224, 0.225])\n",
        "        image = image * std + mean\n",
        "        image = np.clip(image, 0., 1.)\n",
        "        plt.imshow(image)\n",
        "        col = 'green'\n",
        "        if preds[i] != labels[i]:\n",
        "            col = 'red'\n",
        "            \n",
        "        plt.xlabel(f'{class_names[int(labels[i].numpy())]}')\n",
        "        plt.ylabel(f'{class_names[int(preds[i].numpy())]}', color=col)\n",
        "    plt.tight_layout()\n",
        "    plt.show()"
      ],
      "execution_count": 18,
      "outputs": []
    },
    {
      "cell_type": "code",
      "metadata": {
        "id": "tX8fWgf6mx5e",
        "outputId": "7286fbd9-144c-49d8-b142-5e1a6cb5363b",
        "colab": {
          "base_uri": "https://localhost:8080/",
          "height": 114
        }
      },
      "source": [
        "train_images, train_labels = next(iter(dl_train))\n",
        "show_images(train_images, train_labels, train_labels)"
      ],
      "execution_count": 19,
      "outputs": [
        {
          "output_type": "display_data",
          "data": {
            "image/png": "[encoded data removed]",
            "text/plain": [
              "<Figure size 576x288 with 6 Axes>"
            ]
          },
          "metadata": {
            "tags": []
          }
        }
      ]
    },
    {
      "cell_type": "code",
      "metadata": {
        "id": "CS_9sKxSmx5i",
        "outputId": "137affe3-6670-47bc-83a5-7ea9aaa19a93",
        "colab": {
          "base_uri": "https://localhost:8080/",
          "height": 114
        }
      },
      "source": [
        "test_images, test_labels = next(iter(dl_test))\n",
        "show_images(test_images, test_labels, test_labels)"
      ],
      "execution_count": 20,
      "outputs": [
        {
          "output_type": "display_data",
          "data": {
            "image/png": "[encoded data removed]",
            "text/plain": [
              "<Figure size 576x288 with 6 Axes>"
            ]
          },
          "metadata": {
            "tags": []
          }
        }
      ]
    },
    {
      "cell_type": "code",
      "metadata": {
        "id": "yBmv_4Yp3O_c"
      },
      "source": [
        "from numpy import vstack\n",
        "from numpy import argmax\n",
        "from sklearn.metrics import accuracy_score\n",
        "#from torchvision.datasets import MNIST\n",
        "from torchvision.transforms import Compose\n",
        "from torchvision.transforms import ToTensor\n",
        "from torchvision.transforms import Normalize\n",
        "from torch.utils.data import DataLoader\n",
        "from torch.nn import Conv2d\n",
        "from torch.nn import MaxPool2d\n",
        "from torch.nn import Linear\n",
        "from torch.nn import ReLU\n",
        "from torch.nn import Softmax\n",
        "from torch.nn import Module\n",
        "from torch.optim import SGD\n",
        "from torch.nn import CrossEntropyLoss\n",
        "from torch.nn.init import kaiming_uniform_\n",
        "from torch.nn.init import xavier_uniform_"
      ],
      "execution_count": 42,
      "outputs": []
    },
    {
      "cell_type": "code",
      "metadata": {
        "id": "fSldIVo93PFx"
      },
      "source": [
        "# model definition\n",
        "class CNN(Module):\n",
        "\n",
        "    # define model elements\n",
        "    def __init__(self, n_channels):\n",
        "      \n",
        "      #print(n_channels)\n",
        "    #def __init__(self):\n",
        "      super(CNN, self).__init__()\n",
        "\n",
        "      # input to first hidden layer\n",
        "      self.hidden1 = Conv2d(n_channels, 32, (3,3))\n",
        "      #self.hidden1 = Conv2d(n_channels, 6, (3,3))\n",
        "      #self.hidden1 = Conv2d(3, 32, (3,3))\n",
        "        \n",
        "\n",
        "      kaiming_uniform_(self.hidden1.weight, nonlinearity='relu')\n",
        "      self.act1 = ReLU()\n",
        "      # first pooling layer\n",
        "      self.pool1 = MaxPool2d((2,2), stride=(2,2))\n",
        "\n",
        "      # second hidden layer\n",
        "      self.hidden2 = Conv2d(32, 32, (3,3))\n",
        "      #self.hidden2 = Conv2d(1, 32, (3,3))\n",
        "\n",
        "      kaiming_uniform_(self.hidden2.weight, nonlinearity='relu')\n",
        "      self.act2 = ReLU()\n",
        "      # second pooling layer\n",
        "      self.pool2 = MaxPool2d((2,2), stride=(2,2))\n",
        "      # fully connected layer\n",
        "      #self.hidden3 = Linear(5*5*32, 100)\n",
        "      self.hidden3 = Linear(3*144*216, 6)\n",
        "      kaiming_uniform_(self.hidden3.weight, nonlinearity='relu')\n",
        "      self.act3 = ReLU()\n",
        "      # output layer\n",
        "      #self.hidden4 = Linear(100, 10)\n",
        "      self.hidden4 = Linear(6, 6)\n",
        "      xavier_uniform_(self.hidden4.weight)\n",
        "      self.act4 = Softmax(dim=1)\n",
        " \n",
        "    # forward propagate input\n",
        "    def forward(self, X):\n",
        "      # input to first hidden layer\n",
        "      X = self.hidden1(X)\n",
        "      X = self.act1(X)\n",
        "      X = self.pool1(X)\n",
        "      # second hidden layer\n",
        "      X = self.hidden2(X)\n",
        "      X = self.act2(X)\n",
        "      X = self.pool2(X)\n",
        "      # flatten\n",
        "      #X = X.view(-1, 4*4*50)\n",
        "      X = X.view(X.size(0), 3*144*216)\n",
        "      # third hidden layer\n",
        "      X = self.hidden3(X)\n",
        "      X = self.act3(X)\n",
        "      # output layer\n",
        "      X = self.hidden4(X)\n",
        "      X = self.act4(X)\n",
        "      return X\n",
        "\n"
      ],
      "execution_count": 43,
      "outputs": []
    },
    {
      "cell_type": "code",
      "metadata": {
        "id": "tPVZ_fU5mx5l"
      },
      "source": [
        "# train the model\n",
        "def train_model(dl_train, model):\n",
        "    # define the optimization\n",
        "    criterion = CrossEntropyLoss()\n",
        "    optimizer = SGD(model.parameters(), lr=0.01, momentum=0.9)\n",
        "    # enumerate epochs\n",
        "    for epoch in range(10):\n",
        "        # enumerate mini batches\n",
        "        for i, (inputs, targets) in enumerate(dl_train):\n",
        "            # clear the gradients\n",
        "            optimizer.zero_grad()\n",
        "            # compute the model output\n",
        "            yhat = model(inputs)\n",
        "            # calculate loss\n",
        "            loss = criterion(yhat, targets)\n",
        "            # credit assignment\n",
        "            loss.backward()\n",
        "            # update model weights\n",
        "            optimizer.step()"
      ],
      "execution_count": 44,
      "outputs": []
    },
    {
      "cell_type": "code",
      "metadata": {
        "id": "_wbP8uQ70s1q"
      },
      "source": [
        "# evaluate the model\n",
        "def evaluate_model(dl_test, model):\n",
        "    predictions, actuals = list(), list()\n",
        "    for i, (inputs, targets) in enumerate(dl_test):\n",
        "        # evaluate the model on the test set\n",
        "        yhat = model(inputs)\n",
        "\n",
        "        #print(\"evaluate the model on the test set\\n\")\n",
        "        #yhat.shape\n",
        "        #yhat.size\n",
        "        #print(yhat)\n",
        "\n",
        "        # retrieve numpy array\n",
        "        yhat = yhat.detach().numpy()\n",
        "\n",
        "        #print(\"retrieve numpy array\\n\")\n",
        "        #yhat.shape\n",
        "        #yhat.size\n",
        "        #print(yhat)\n",
        "\n",
        "        actual = targets.numpy()\n",
        "        # convert to class labels\n",
        "        yhat = argmax(yhat, axis=1)\n",
        "        #yhat = argmax(yhat, axis=0)\n",
        "        # reshape for stacking\n",
        "        actual = actual.reshape((len(actual), 1))\n",
        "        yhat = yhat.reshape((len(yhat), 1))\n",
        "        # store\n",
        "        predictions.append(yhat)\n",
        "        actuals.append(actual)\n",
        "    predictions, actuals = vstack(predictions), vstack(actuals)\n",
        "    # calculate accuracy\n",
        "    acc = accuracy_score(actuals, predictions)\n",
        "    return acc\n"
      ],
      "execution_count": 53,
      "outputs": []
    },
    {
      "cell_type": "code",
      "metadata": {
        "id": "hplF0gxe0s4s",
        "outputId": "b98804da-dc97-47d1-9dd6-54879cd0e803",
        "colab": {
          "base_uri": "https://localhost:8080/",
          "height": 34
        }
      },
      "source": [
        "print(len(dl_train.dataset), len(dl_test.dataset))"
      ],
      "execution_count": 46,
      "outputs": [
        {
          "output_type": "stream",
          "text": [
            "610 90\n"
          ],
          "name": "stdout"
        }
      ]
    },
    {
      "cell_type": "code",
      "metadata": {
        "id": "g0H440m20s-b"
      },
      "source": [
        "# define the network\n",
        "#model = CNN(1)\n",
        "model = CNN(3)\n",
        "#x = torch.randn(1, 1, 32, 32)\n",
        "#out = model(x)"
      ],
      "execution_count": 47,
      "outputs": []
    },
    {
      "cell_type": "code",
      "metadata": {
        "id": "PnUynGmz0szJ"
      },
      "source": [
        "# # train the model\n",
        "train_model(dl_train, model)"
      ],
      "execution_count": 51,
      "outputs": []
    },
    {
      "cell_type": "code",
      "metadata": {
        "id": "eac5V98xpHR5",
        "outputId": "5d9531ab-4f14-49b2-f9d4-4d97a8d85baf",
        "colab": {
          "base_uri": "https://localhost:8080/",
          "height": 34
        }
      },
      "source": [
        "# evaluate the model\n",
        "acc = evaluate_model(dl_test, model)\n",
        "print('Accuracy: %.3f' % acc)"
      ],
      "execution_count": 54,
      "outputs": [
        {
          "output_type": "stream",
          "text": [
            "Accuracy: 0.367\n"
          ],
          "name": "stdout"
        }
      ]
    },
    {
      "cell_type": "code",
      "metadata": {
        "id": "Xe1tIpK0pHQs"
      },
      "source": [
        ""
      ],
      "execution_count": null,
      "outputs": []
    },
    {
      "cell_type": "code",
      "metadata": {
        "id": "XqRsrzm6pHOX"
      },
      "source": [
        ""
      ],
      "execution_count": null,
      "outputs": []
    },
    {
      "cell_type": "code",
      "metadata": {
        "id": "lDrPhYY8pHMM"
      },
      "source": [
        ""
      ],
      "execution_count": null,
      "outputs": []
    },
    {
      "cell_type": "code",
      "metadata": {
        "id": "NvMYiCvNjM9V"
      },
      "source": [
        "#from sklearn.model_selection import train_test_split"
      ],
      "execution_count": 86,
      "outputs": []
    },
    {
      "cell_type": "code",
      "metadata": {
        "id": "7s3_y1s4jM6y"
      },
      "source": [
        "#X_train, X_test, y_train, y_test = train_test_split(train_images, train_labels, test_size=0.2, random_state=42)"
      ],
      "execution_count": 85,
      "outputs": []
    },
    {
      "cell_type": "code",
      "metadata": {
        "id": "X3DFIt4UuiV3"
      },
      "source": [
        ""
      ],
      "execution_count": 84,
      "outputs": []
    },
    {
      "cell_type": "code",
      "metadata": {
        "id": "oEX7GSQmuia0"
      },
      "source": [
        ""
      ],
      "execution_count": null,
      "outputs": []
    },
    {
      "cell_type": "code",
      "metadata": {
        "id": "G9yeG1TMuifm"
      },
      "source": [
        ""
      ],
      "execution_count": null,
      "outputs": []
    },
    {
      "cell_type": "code",
      "metadata": {
        "id": "MK4D8rKSuiec"
      },
      "source": [
        ""
      ],
      "execution_count": null,
      "outputs": []
    },
    {
      "cell_type": "code",
      "metadata": {
        "id": "x-zkk3OKuiZj"
      },
      "source": [
        ""
      ],
      "execution_count": null,
      "outputs": []
    },
    {
      "cell_type": "code",
      "metadata": {
        "id": "JuKyrXr1uiUq"
      },
      "source": [
        ""
      ],
      "execution_count": null,
      "outputs": []
    },
    {
      "cell_type": "code",
      "metadata": {
        "id": "bmg3Uc-WjTom",
        "outputId": "ede35779-3434-4f2f-be07-ad47d72c2418",
        "colab": {
          "base_uri": "https://localhost:8080/",
          "height": 137
        }
      },
      "source": [
        "'''\n",
        "model = Sequential()\n",
        "model.add(Conv2D(filters=16, kernel_size=(5, 5), activation=\"relu\", input_shape=(400,400,3)))\n",
        "model.add(MaxPooling2D(pool_size=(2, 2)))\n",
        "model.add(Dropout(0.25))\n",
        "model.add(Conv2D(filters=32, kernel_size=(5, 5), activation='relu'))\n",
        "model.add(MaxPooling2D(pool_size=(2, 2)))\n",
        "model.add(Dropout(0.25))\n",
        "model.add(Conv2D(filters=64, kernel_size=(5, 5), activation=\"relu\"))\n",
        "model.add(MaxPooling2D(pool_size=(2, 2)))\n",
        "model.add(Dropout(0.25))\n",
        "model.add(Conv2D(filters=64, kernel_size=(5, 5), activation='relu'))\n",
        "model.add(MaxPooling2D(pool_size=(2, 2)))\n",
        "model.add(Dropout(0.25))\n",
        "model.add(Flatten())\n",
        "model.add(Dense(128, activation='relu'))\n",
        "model.add(Dropout(0.5))\n",
        "model.add(Dense(64, activation='relu'))\n",
        "model.add(Dropout(0.5))\n",
        "model.add(Dense(25, activation='sigmoid'))\n",
        "'''"
      ],
      "execution_count": 83,
      "outputs": [
        {
          "output_type": "execute_result",
          "data": {
            "application/vnd.google.colaboratory.intrinsic+json": {
              "type": "string"
            },
            "text/plain": [
              "'\\nmodel = Sequential()\\nmodel.add(Conv2D(filters=16, kernel_size=(5, 5), activation=\"relu\", input_shape=(400,400,3)))\\nmodel.add(MaxPooling2D(pool_size=(2, 2)))\\nmodel.add(Dropout(0.25))\\nmodel.add(Conv2D(filters=32, kernel_size=(5, 5), activation=\\'relu\\'))\\nmodel.add(MaxPooling2D(pool_size=(2, 2)))\\nmodel.add(Dropout(0.25))\\nmodel.add(Conv2D(filters=64, kernel_size=(5, 5), activation=\"relu\"))\\nmodel.add(MaxPooling2D(pool_size=(2, 2)))\\nmodel.add(Dropout(0.25))\\nmodel.add(Conv2D(filters=64, kernel_size=(5, 5), activation=\\'relu\\'))\\nmodel.add(MaxPooling2D(pool_size=(2, 2)))\\nmodel.add(Dropout(0.25))\\nmodel.add(Flatten())\\nmodel.add(Dense(128, activation=\\'relu\\'))\\nmodel.add(Dropout(0.5))\\nmodel.add(Dense(64, activation=\\'relu\\'))\\nmodel.add(Dropout(0.5))\\nmodel.add(Dense(25, activation=\\'sigmoid\\'))\\n'"
            ]
          },
          "metadata": {
            "tags": []
          },
          "execution_count": 83
        }
      ]
    },
    {
      "cell_type": "code",
      "metadata": {
        "id": "BYOB67K8qxI4"
      },
      "source": [
        ""
      ],
      "execution_count": null,
      "outputs": []
    }
  ]
}