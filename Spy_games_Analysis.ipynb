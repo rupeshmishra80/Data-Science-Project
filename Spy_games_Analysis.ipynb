{
 "cells": [
  {
   "cell_type": "markdown",
   "metadata": {},
   "source": [
    "## Problem Statement\n",
    "Hello lieutenant!\n",
    "It's with an emergency that our agency wishes to use the skills that you learned in 'python intermediate' module.\n",
    "Your mission if you choose to accept it, would be to help us decipher a message that we received from our intel. We have multiple text files that need to be read and have certain operations performed to get our final message.\n",
    "\n",
    "Good luck. The fate of humanity lies in your hands.\n",
    "\n",
    "## Why solve this project?\n",
    "After completing this project, you will have a better understanding of solving logical problems using python. In this project, you will be applying the following concepts:\n",
    "\n",
    "- String operations \n",
    "- Conditional statement and loops\n",
    "- File I/O\n",
    "- Functions"
   ]
  },
  {
   "cell_type": "markdown",
   "metadata": {},
   "source": [
    "### Task 1\n",
    "\n",
    "**The first thing you have to do is to write a function that reads the contents of the files that we have.**\n",
    "\n",
    "#### Instructions:\n",
    "\n",
    "* The path for file should be stored in a variable `file_path`\n",
    "* Write a function `\"read_file()\"` that :\n",
    "    \n",
    "     * Takes `'path'` as a parameter.\n",
    "\n",
    "     * Opens the file associated with the `'path'` in the read-only mode `('r')` and store it in a variable  `file`.\n",
    "\n",
    "     * Reads the content(first line) of the file and stores it in a variable called `'sentence'`\n",
    "\n",
    "     * Closes the file\n",
    "\n",
    "     * Returns `'sentence'` \n",
    "\n",
    "\n",
    "Parameters :\n",
    "\n",
    "| parameter | dtype  | Argument Type | default value | description                   |\n",
    "|-----------|--------|---------------|---------------|-------------------------------|\n",
    "| path      | string | compulsory    |               | path of the file location |\n",
    "\n",
    "Returns:\n",
    "\n",
    "| returns  | dtype            | description                                |\n",
    "|----------|------------------|--------------------------------------------|\n",
    "| sentence | string | Sentence in the file |\n",
    "\n",
    "\n",
    "\n",
    "* Call the function `\"read_file()\"` with `'file_path'` as input parameter and store the result in a variable called `'sample_message'`"
   ]
  },
  {
   "cell_type": "code",
   "execution_count": 4,
   "metadata": {},
   "outputs": [],
   "source": [
    "import os\n",
    "from pathlib import Path\n",
    "\n"
   ]
  },
  {
   "cell_type": "code",
   "execution_count": 8,
   "metadata": {},
   "outputs": [
    {
     "data": {
      "text/plain": [
       "['M1.txt',\n",
       " 'M2.txt',\n",
       " 'M3.txt',\n",
       " 'M4.txt',\n",
       " 'M5.txt',\n",
       " 'M6.txt',\n",
       " 'Sample.txt',\n",
       " 'secret_message.txt']"
      ]
     },
     "execution_count": 8,
     "metadata": {},
     "output_type": "execute_result"
    }
   ],
   "source": [
    "#List the c ontent of the directory\n",
    "local_path=r'C:\\Users\\dell\\Desktop\\rupesh\\Data Science Courses\\GreyAtom_FDP\\complete class\\Day_3_spy_games_dataset'\n",
    "\n",
    "data_path=os.path.join(local_path,'data')\n",
    "os.listdir(data_path)\n"
   ]
  },
  {
   "cell_type": "code",
   "execution_count": 9,
   "metadata": {},
   "outputs": [
    {
     "data": {
      "text/plain": [
       "'C:\\\\Users\\\\dell\\\\Desktop\\\\rupesh\\\\Data Science Courses\\\\GreyAtom_FDP\\\\complete class\\\\Day_3_spy_games_dataset\\\\data'"
      ]
     },
     "execution_count": 9,
     "metadata": {},
     "output_type": "execute_result"
    }
   ],
   "source": [
    "os.path.join(local_path,'data')"
   ]
  },
  {
   "cell_type": "code",
   "execution_count": 10,
   "metadata": {},
   "outputs": [
    {
     "data": {
      "text/plain": [
       "'jsomestrosomestrisomestrnsomestrisomestrnsomestrg'"
      ]
     },
     "execution_count": 10,
     "metadata": {},
     "output_type": "execute_result"
    }
   ],
   "source": [
    "'somestr'.join('joining')"
   ]
  },
  {
   "cell_type": "code",
   "execution_count": 11,
   "metadata": {},
   "outputs": [
    {
     "data": {
      "text/plain": [
       "'C:\\\\Users\\\\dell\\\\Desktop\\\\rupesh\\\\Data Science Courses\\\\GreyAtom_FDP\\\\complete class\\\\Day_3_spy_games_dataset\\\\data'"
      ]
     },
     "execution_count": 11,
     "metadata": {},
     "output_type": "execute_result"
    }
   ],
   "source": [
    "data_path"
   ]
  },
  {
   "cell_type": "code",
   "execution_count": 14,
   "metadata": {},
   "outputs": [
    {
     "name": "stdout",
     "output_type": "stream",
     "text": [
      "C:\\Users\\dell\\Desktop\\rupesh\\Data Science Courses\\GreyAtom_FDP\\complete class\\Day_3_spy_games_dataset\\data\\M1.txt\n",
      "C:\\Users\\dell\\Desktop\\rupesh\\Data Science Courses\\GreyAtom_FDP\\complete class\\Day_3_spy_games_dataset\\data\\M2.txt\n",
      "C:\\Users\\dell\\Desktop\\rupesh\\Data Science Courses\\GreyAtom_FDP\\complete class\\Day_3_spy_games_dataset\\data\\M3.txt\n",
      "C:\\Users\\dell\\Desktop\\rupesh\\Data Science Courses\\GreyAtom_FDP\\complete class\\Day_3_spy_games_dataset\\data\\M4.txt\n",
      "C:\\Users\\dell\\Desktop\\rupesh\\Data Science Courses\\GreyAtom_FDP\\complete class\\Day_3_spy_games_dataset\\data\\M5.txt\n",
      "C:\\Users\\dell\\Desktop\\rupesh\\Data Science Courses\\GreyAtom_FDP\\complete class\\Day_3_spy_games_dataset\\data\\M6.txt\n",
      "C:\\Users\\dell\\Desktop\\rupesh\\Data Science Courses\\GreyAtom_FDP\\complete class\\Day_3_spy_games_dataset\\data\\Sample.txt\n",
      "C:\\Users\\dell\\Desktop\\rupesh\\Data Science Courses\\GreyAtom_FDP\\complete class\\Day_3_spy_games_dataset\\data\\secret_message.txt\n"
     ]
    }
   ],
   "source": [
    "#2. Loop over every file in data folder and print its first line\n",
    "for each_file in os.listdir(data_path):\n",
    "    print(os.path.join(data_path,each_file))"
   ]
  },
  {
   "cell_type": "code",
   "execution_count": 16,
   "metadata": {},
   "outputs": [],
   "source": [
    "#Read A sample file\n",
    "file_path=r\"C:\\Users\\dell\\Desktop\\rupesh\\Data Science Courses\\GreyAtom_FDP\\complete class\\Day_3_spy_games_dataset\\data\\Sample.txt\""
   ]
  },
  {
   "cell_type": "code",
   "execution_count": 17,
   "metadata": {},
   "outputs": [],
   "source": [
    "test=open(file_path,'r')"
   ]
  },
  {
   "cell_type": "code",
   "execution_count": 18,
   "metadata": {},
   "outputs": [],
   "source": [
    "message=test.read()"
   ]
  },
  {
   "cell_type": "code",
   "execution_count": 19,
   "metadata": {},
   "outputs": [
    {
     "data": {
      "text/plain": [
       "'This is a sample message.'"
      ]
     },
     "execution_count": 19,
     "metadata": {},
     "output_type": "execute_result"
    }
   ],
   "source": [
    "message"
   ]
  },
  {
   "cell_type": "markdown",
   "metadata": {},
   "source": [
    "test.close()"
   ]
  },
  {
   "cell_type": "code",
   "execution_count": 20,
   "metadata": {},
   "outputs": [],
   "source": [
    "test.close()"
   ]
  },
  {
   "cell_type": "code",
   "execution_count": 21,
   "metadata": {},
   "outputs": [],
   "source": [
    "with open(file_path, 'r') as f:\n",
    "    message=f.read()\n",
    "    "
   ]
  },
  {
   "cell_type": "code",
   "execution_count": 22,
   "metadata": {},
   "outputs": [
    {
     "data": {
      "text/plain": [
       "'This is a sample message.'"
      ]
     },
     "execution_count": 22,
     "metadata": {},
     "output_type": "execute_result"
    }
   ],
   "source": [
    "message"
   ]
  },
  {
   "cell_type": "code",
   "execution_count": 36,
   "metadata": {},
   "outputs": [],
   "source": [
    "file_path2=r\"C:\\Users\\dell\\Desktop\\rupesh\\Data Science Courses\\GreyAtom_FDP\\complete class\\Day_3_spy_games_dataset\\data\\secret_message.txt\""
   ]
  },
  {
   "cell_type": "code",
   "execution_count": 37,
   "metadata": {},
   "outputs": [],
   "source": [
    "with open(file_path2,'r') as f:\n",
    "    m1_data=f.readlines()"
   ]
  },
  {
   "cell_type": "code",
   "execution_count": 40,
   "metadata": {},
   "outputs": [
    {
     "data": {
      "text/plain": [
       "['you are now 1 step closer to become Data Scientistyou are now 1 step closer to become Data Scientistyou are now 1 step closer to become Data Scientist']"
      ]
     },
     "execution_count": 40,
     "metadata": {},
     "output_type": "execute_result"
    }
   ],
   "source": [
    "m1_data.splitlines()"
   ]
  },
  {
   "cell_type": "code",
   "execution_count": 41,
   "metadata": {},
   "outputs": [
    {
     "data": {
      "text/plain": [
       "'you are now 1 step closer to become Data Scientistyou are now 1 step closer to become Data Scientistyou are now 1 step closer to become Data Scientist'"
      ]
     },
     "execution_count": 41,
     "metadata": {},
     "output_type": "execute_result"
    }
   ],
   "source": [
    "m1_data.splitlines()[0]"
   ]
  },
  {
   "cell_type": "code",
   "execution_count": 47,
   "metadata": {},
   "outputs": [
    {
     "name": "stdout",
     "output_type": "stream",
     "text": [
      "2222\n",
      "\n",
      "2477\n",
      "\n",
      "Green\n",
      "I hope you are good now\n",
      "I hope good things happen in your life.\n",
      "The man was one step closer towards his quest to become a spy\n",
      "This is a sample message.\n",
      "you are now 1 step closer to become Data Scientistyou are now 1 step closer to become Data Scientistyou are now 1 step closer to become Data Scientist\n"
     ]
    }
   ],
   "source": [
    "#Loop over every file in data folder and print its first line\n",
    "for each_file in os.listdir(data_path):\n",
    "    _tmpfile=os.path.join(data_path,each_file)\n",
    "    with open(_tmpfile, 'r') as f:\n",
    "        data=f.readlines()[0]\n",
    "    print(data)"
   ]
  },
  {
   "cell_type": "code",
   "execution_count": 49,
   "metadata": {},
   "outputs": [],
   "source": [
    "#Create a first line of your file..\n",
    "def read_first(file_path):\n",
    "    \"\"\"\n",
    "    Reads a first line of files\n",
    "    params:\n",
    "    ......\n",
    "    file_path: str-path to your file\n",
    "    Returns:\n",
    "    .....\n",
    "    \n",
    "   \"\"\"\n",
    "    with open(file_path,'r') as f:\n",
    "        data =f.readlines()[0]\n",
    "    return data"
   ]
  },
  {
   "cell_type": "code",
   "execution_count": 51,
   "metadata": {},
   "outputs": [
    {
     "name": "stdout",
     "output_type": "stream",
     "text": [
      "2222\n",
      "\n",
      "2477\n",
      "\n",
      "Green\n",
      "I hope you are good now\n",
      "I hope good things happen in your life.\n",
      "The man was one step closer towards his quest to become a spy\n",
      "This is a sample message.\n",
      "you are now 1 step closer to become Data Scientistyou are now 1 step closer to become Data Scientistyou are now 1 step closer to become Data Scientist\n"
     ]
    }
   ],
   "source": [
    "for each_file in os.listdir(data_path):\n",
    "    _tmpfile=os.path.join(data_path,each_file)\n",
    "    print(read_first(_tmpfile))\n",
    "       "
   ]
  },
  {
   "cell_type": "code",
   "execution_count": null,
   "metadata": {},
   "outputs": [],
   "source": []
  },
  {
   "cell_type": "markdown",
   "metadata": {},
   "source": []
  },
  {
   "cell_type": "markdown",
   "metadata": {},
   "source": [
    "### Task 2\n",
    "\n",
    "**In this task, you have to make use of messages of two different files. \n",
    "In the two files, we have one number each.\n",
    "You have to apply a certain operation to extract our message.**\n",
    "\n",
    "#### Instructions:\n",
    "* Path for the two files that you will require for this task should be stored in variables `file_path_1` and `file_path_2`\n",
    "\n",
    "* Call the function `read_file()` written in the previous task for `file_path_1` & `file_path_2` and store their message sentences in variables `message_1` and `message_2` respectively.\n",
    "\n",
    "\n",
    "* Print `message_1` and `message_2` to see what they contain.\n",
    "\n",
    "\n",
    "* Write a function `fuse_msg()` that :\n",
    "    \n",
    "    * Takes `message_a` and `message_b` as parameters\n",
    "\n",
    "    * Implements integer(floor) division of `message_b` over `message_a`(Don't forget to make messages as int before applying floor division) and   stores the quotient in a variable called `quotient`\n",
    "\n",
    "    * Returns `quotient` in string format. \n",
    "    \n",
    "    [Note you can convert any variable 'a' to string using str(a)]\n",
    "\n",
    "\n",
    "\n",
    "Parameters :\n",
    "\n",
    "| parameter | dtype  | Argument Type | default value | description                   |\n",
    "|-----------|--------|---------------|---------------|-------------------------------|\n",
    "| message_a      | string | compulsory    |               | message from the first text file |\n",
    "| message_b      | string | compulsory    |               | message from the second text file |\n",
    "\n",
    "\n",
    "Returns:\n",
    "\n",
    "| returns  | dtype            | description                                |\n",
    "|----------|------------------|--------------------------------------------|\n",
    "| quotient | string | quotient of the integer division |\n",
    "\n",
    "\n",
    "\n",
    "* Call the function `fuse_msg()` with `message_1` & `message_2` and store the result of it in a variable called `secret_msg_1`\n",
    "\n",
    "\n"
   ]
  },
  {
   "cell_type": "code",
   "execution_count": 53,
   "metadata": {},
   "outputs": [],
   "source": [
    "#Read messages of 2 files\n",
    "msg_1=int(read_first(r\"C:\\Users\\dell\\Desktop\\rupesh\\Data Science Courses\\GreyAtom_FDP\\complete class\\Day_3_spy_games_dataset\\data\\M1.txt\"))\n",
    "msg_2=int(read_first(r\"C:\\Users\\dell\\Desktop\\rupesh\\Data Science Courses\\GreyAtom_FDP\\complete class\\Day_3_spy_games_dataset\\data\\M2.txt\"))\n",
    "\n"
   ]
  },
  {
   "cell_type": "code",
   "execution_count": 56,
   "metadata": {},
   "outputs": [],
   "source": [
    "def fuse_msg(msg_1,msg_2):\n",
    "    \"\"\"\n",
    "    Divides msg2 by msg1\n",
    "    \"\"\"\n",
    "    return int(msg_2/msg_1)"
   ]
  },
  {
   "cell_type": "code",
   "execution_count": 59,
   "metadata": {},
   "outputs": [
    {
     "data": {
      "text/plain": [
       "1"
      ]
     },
     "execution_count": 59,
     "metadata": {},
     "output_type": "execute_result"
    }
   ],
   "source": [
    "fuse_msg(msg_1,msg_2)"
   ]
  },
  {
   "cell_type": "code",
   "execution_count": null,
   "metadata": {},
   "outputs": [],
   "source": []
  },
  {
   "cell_type": "code",
   "execution_count": null,
   "metadata": {},
   "outputs": [],
   "source": []
  },
  {
   "cell_type": "code",
   "execution_count": null,
   "metadata": {},
   "outputs": [],
   "source": []
  },
  {
   "cell_type": "markdown",
   "metadata": {},
   "source": [
    "### Task 3\n",
    "\n",
    "**In this task, you have to substitute the message of the file for a secret message.**\n",
    "\n",
    "#### Instructions:\n",
    "* Path for the file that you will require for this task should be stored in variables `file_path_3`\n",
    "\n",
    "* Call the function `read_file()` for `file_path_3` and store its message sentences in variables `message_3`\n",
    "\n",
    "\n",
    "* Print `message_3` to see what it contains.\n",
    "\n",
    "\n",
    "* Write a function `substitute_msg()` that :\n",
    "\n",
    "    - Takes `message_c` as a parameter\n",
    "\n",
    "    - Creates a new variable `'sub'` and in it stores  \n",
    "\n",
    "                  'Army General' if message_c is 'Red'\n",
    "                  'Data Scientist' if message_c is 'Green'\n",
    "                  'Marine Biologist' if message_c is 'Blue'\n",
    "\n",
    "    - Returns `'sub'`          \n",
    "\n",
    "Parameters :\n",
    "\n",
    "| parameter | dtype  | Argument Type | default value | description                   |\n",
    "|-----------|--------|---------------|---------------|-------------------------------|\n",
    "| message_c      | string | compulsory    |               | message from the text file |\n",
    "\n",
    "\n",
    "Returns:\n",
    "\n",
    "| returns  | dtype            | description                                |\n",
    "|----------|------------------|--------------------------------------------|\n",
    "| sub | string | word according to the condition given |\n",
    "\n",
    "\n",
    "\n",
    "* Call the function `\"substitute_msg()\"` with `'message_3'` and store the result of it in a variable called `'secret_msg_2'`\n",
    "\n",
    "\n"
   ]
  },
  {
   "cell_type": "code",
   "execution_count": 62,
   "metadata": {},
   "outputs": [
    {
     "data": {
      "text/plain": [
       "'Green'"
      ]
     },
     "execution_count": 62,
     "metadata": {},
     "output_type": "execute_result"
    }
   ],
   "source": [
    "#msg_3=read_first(r\"C:\\Users\\dell\\Desktop\\rupesh\\Data Science Courses\\GreyAtom_FDP\\complete class\\Day_3_spy_games_dataset\\data\\secret_message.txt\")\n",
    "msg_3=read_first(r\"C:\\Users\\dell\\Desktop\\rupesh\\Data Science Courses\\GreyAtom_FDP\\complete class\\Day_3_spy_games_dataset\\data\\M3.txt\")\n",
    "msg_3"
   ]
  },
  {
   "cell_type": "code",
   "execution_count": 64,
   "metadata": {},
   "outputs": [],
   "source": [
    "def substitute_msg(msg):\n",
    "    \"\"\"\n",
    "    Substitute a string\n",
    "    \"\"\"\n",
    "    color_dict={\n",
    "        'Red': 'Army General',\n",
    "        'Blue': 'Marine Biologist',\n",
    "        'Green': 'Data Scientist'\n",
    "        \n",
    "        \n",
    "    }\n",
    "    \n",
    "    if not isinstance(msg,str):\n",
    "        print('Enter a string')\n",
    "    elif msg not in color_dict.keys():\n",
    "        print('unavilable')\n",
    "    \n",
    "    else:\n",
    "        return color_dict[msg]"
   ]
  },
  {
   "cell_type": "code",
   "execution_count": 65,
   "metadata": {},
   "outputs": [
    {
     "data": {
      "text/plain": [
       "'Data Scientist'"
      ]
     },
     "execution_count": 65,
     "metadata": {},
     "output_type": "execute_result"
    }
   ],
   "source": [
    "substitute_msg(msg_3)"
   ]
  },
  {
   "cell_type": "markdown",
   "metadata": {},
   "source": [
    "### Task 4\n",
    "\n",
    "**In this task, you have to make use of messages from two different files.\n",
    "You have to compare the two messages and take only those words that appear in first message but not in second message.**\n",
    "\n",
    "\n",
    "## Instructions:\n",
    "\n",
    "* Path for the two files that you will require for this task should be stored in variables `file_path_4` and `file_path_5`\n",
    "\n",
    "* Call the function `read_file()` for `file_path_4` & `file_path_5` and store their message sentences in variables `message_4` and `message_5` respectively\n",
    "\n",
    "\n",
    "* Print `message_4` and `message_5` to see what they contain.\n",
    "\n",
    "\n",
    "* Write a function `compare_msg()` that :\n",
    "\n",
    "    - Takes `message_d` and `message_e` as parameters\n",
    "\n",
    "   - Breaks down the sentences in `message_d` & `message_e` into words using `split()` function and stores them in `a_list` & `b_list`  respectively\n",
    "\n",
    "    - Stores all the words that are there in `a_list` but not in `b_list` in a new list called `c_list` \n",
    "\n",
    "    - Combines the words of `c_list` back to a sentence using `join()` and stores it in a variable called `final_msg` and returns it \n",
    "\n",
    "***\n",
    "\n",
    "      Example of join function :\n",
    "\n",
    "~~~python\n",
    "Word_List=['I', 'love', 'data']\n",
    "Sentence= \" \".join(Word_List)\n",
    "print('Sentence=', Sentence)\n",
    "~~~\n",
    "\n",
    "**Output**\n",
    "\n",
    "~~~python\n",
    "'Sentence= I love data'\n",
    "~~~       \n",
    "   \n",
    "                \n",
    "***                             \n",
    "Parameters :\n",
    "\n",
    "| parameter | dtype  | Argument Type | default value | description                   |\n",
    "|-----------|--------|---------------|---------------|-------------------------------|\n",
    "| message_d      | string | compulsory    |               | message from the first text file |\n",
    "| message_e      | string | compulsory    |               | message from the second text file |\n",
    "\n",
    "\n",
    "Returns:\n",
    "\n",
    "| returns  | dtype            | description                                |\n",
    "|----------|------------------|--------------------------------------------|\n",
    "| final_msg | string | Sentence after applying all the above operations |\n",
    "\n",
    "\n",
    "* Call the function `\"compare_msg()\"` with `'message_4'` & `'message_5'` and store the result of it in a variable called `'secret_msg_3'`\n",
    "\n",
    "\n"
   ]
  },
  {
   "cell_type": "code",
   "execution_count": 67,
   "metadata": {},
   "outputs": [
    {
     "name": "stdout",
     "output_type": "stream",
     "text": [
      "I hope you are good now\n",
      "\n",
      "I hope you are good now\n"
     ]
    }
   ],
   "source": [
    "msg_4=read_first(r\"C:\\Users\\dell\\Desktop\\rupesh\\Data Science Courses\\GreyAtom_FDP\\complete class\\Day_3_spy_games_dataset\\data\\M4.txt\")\n",
    "msg_5=read_first(r\"C:\\Users\\dell\\Desktop\\rupesh\\Data Science Courses\\GreyAtom_FDP\\complete class\\Day_3_spy_games_dataset\\data\\M5.txt\")\n",
    "print(msg_4)\n",
    "print('')\n",
    "print(msg_4)"
   ]
  },
  {
   "cell_type": "code",
   "execution_count": 68,
   "metadata": {},
   "outputs": [],
   "source": [
    "def compare_msg(msg1,msg2):\n",
    "    \"\"\"\n",
    "    Compare message\n",
    "    \n",
    "    \"\"\"\n",
    "    \n",
    "    a_list=msg1.split()\n",
    "    b_list=msg2.split()\n",
    "    c_list=[word for word in a_list if word not in b_list]\n",
    "    return ' '.join(c_list)"
   ]
  },
  {
   "cell_type": "code",
   "execution_count": 70,
   "metadata": {},
   "outputs": [
    {
     "data": {
      "text/plain": [
       "'you are now'"
      ]
     },
     "execution_count": 70,
     "metadata": {},
     "output_type": "execute_result"
    }
   ],
   "source": [
    "compare_msg(msg_4,msg_5)"
   ]
  },
  {
   "cell_type": "code",
   "execution_count": null,
   "metadata": {},
   "outputs": [],
   "source": [
    "#please complete tak5&task6 by todays itself"
   ]
  },
  {
   "cell_type": "code",
   "execution_count": null,
   "metadata": {},
   "outputs": [],
   "source": []
  },
  {
   "cell_type": "markdown",
   "metadata": {},
   "source": [
    "## Task 5\n",
    "\n",
    "**In this task, you have to extract only those words from the message in the file that are of even length.**\n",
    "\n",
    "#### Instructions:\n",
    "\n",
    "* Path for the file that you will require for this task should be stored in variables `file_path_6`\n",
    "\n",
    "* Call the function `read_file()` for `file_path_6` and store its message sentence in variables `message_6`\n",
    "\n",
    "* Print `message_6` to see what it contains.\n",
    "\n",
    "\n",
    "* Write a function `extract_msg()` that :\n",
    "\n",
    "    - Takes `message_f` as a parameter\n",
    "\n",
    "    - Breaks down the sentence in `message_f` into words and stores them in `a_list`\n",
    "\n",
    "    - Creates a lambda function called `even_word` with the condition that will return true if length of x (lambda function variable) is even \n",
    "\n",
    "    - Implements `filter()` function with function parameter as `even_word` and sequence parameter as `a_list` and stores the result of it in a variable called `b_list`\n",
    "\n",
    "    - Combines the words of `b_list` back to a sentence and stores it in a variable called `final_msg` and returns it \n",
    "\n",
    "\n",
    "Parameters :\n",
    "\n",
    "| parameter | dtype  | Argument Type | default value | description                   |\n",
    "|-----------|--------|---------------|---------------|-------------------------------|\n",
    "| message_f      | string | compulsory    |               | message from the text file |\n",
    "\n",
    "\n",
    "Returns:\n",
    "\n",
    "| returns  | dtype            | description                                |\n",
    "|----------|------------------|--------------------------------------------|\n",
    "| final_msg | string | Sentence after applying all the above operations |\n",
    "\n",
    "\n",
    "\n",
    "* Call the function `\"extract_msg()\"` with `'message_6'` and store the result of it in a variable called `'secret_msg_4'`\n",
    "\n",
    "\n"
   ]
  },
  {
   "cell_type": "code",
   "execution_count": null,
   "metadata": {},
   "outputs": [],
   "source": [
    "sent='this is a secret message'"
   ]
  },
  {
   "cell_type": "code",
   "execution_count": 72,
   "metadata": {},
   "outputs": [
    {
     "ename": "SyntaxError",
     "evalue": "invalid syntax (<ipython-input-72-b3598b2f029f>, line 1)",
     "output_type": "error",
     "traceback": [
      "\u001b[1;36m  File \u001b[1;32m\"<ipython-input-72-b3598b2f029f>\"\u001b[1;36m, line \u001b[1;32m1\u001b[0m\n\u001b[1;33m    ' '.join(i in i in sent.split() if len(i)==0)\u001b[0m\n\u001b[1;37m                                                ^\u001b[0m\n\u001b[1;31mSyntaxError\u001b[0m\u001b[1;31m:\u001b[0m invalid syntax\n"
     ]
    }
   ],
   "source": [
    "' '.join(i in i in sent.split() if len(i)==0)"
   ]
  },
  {
   "cell_type": "code",
   "execution_count": null,
   "metadata": {},
   "outputs": [],
   "source": []
  },
  {
   "cell_type": "code",
   "execution_count": null,
   "metadata": {},
   "outputs": [],
   "source": []
  },
  {
   "cell_type": "code",
   "execution_count": null,
   "metadata": {},
   "outputs": [],
   "source": []
  },
  {
   "cell_type": "markdown",
   "metadata": {},
   "source": [
    "## Task 6\n",
    "\n",
    "**Congrats lieutenant, you have successfully deciphered all the message bits that we received.\n",
    "In this final task, we will combine all the message bits into a single message and write it in a file.**\n",
    "\n",
    "## Instructions:\n",
    "\n",
    "* The message parts that you deciphered have been provided to you in the order that they have to be read, in a list called `message_parts`. \n",
    "\n",
    "\n",
    "* Combine the contents of `message_parts` into a single sentence and store it in a variable called `secret_msg` \n",
    "\n",
    "\n",
    "* Write a function `write_file()` that :\n",
    "    \n",
    "    - Takes `secret_msg` and `path `as  parameters\n",
    "\n",
    "    - Opens the file mentioned in the `path` in `a+` mode\n",
    "\n",
    "    - Writes the content of the `secret_msg` in the above opened file\n",
    "\n",
    "    - Closes the file             \n",
    "\n",
    "Parameters :\n",
    "\n",
    "| parameter | dtype  | Argument Type | default value | description                   |\n",
    "|-----------|--------|---------------|---------------|-------------------------------|\n",
    "| secret_msg      | string | compulsory    |               | message from the text file |\n",
    "| path      | string | compulsory    |               | path pointing towards the file |\n",
    "\n",
    "\n",
    "Returns:\n",
    "\n",
    "The function has no return parameters\n",
    "\n",
    "\n",
    "\n",
    "* Call the function `\"write_file()\"` with `'secret_msg'` and `'final_path'` \n",
    "\n",
    "#### `(final_path= os.getcwd() + '/secret_message.txt')`\n",
    "\n",
    "* Print the content of the `'secret_msg'` so you can also see the message\n",
    "\n",
    "\n"
   ]
  },
  {
   "cell_type": "code",
   "execution_count": null,
   "metadata": {},
   "outputs": [],
   "source": []
  }
 ],
 "metadata": {
  "kernelspec": {
   "display_name": "Python 3",
   "language": "python",
   "name": "python3"
  },
  "language_info": {
   "codemirror_mode": {
    "name": "ipython",
    "version": 3
   },
   "file_extension": ".py",
   "mimetype": "text/x-python",
   "name": "python",
   "nbconvert_exporter": "python",
   "pygments_lexer": "ipython3",
   "version": "3.8.3"
  }
 },
 "nbformat": 4,
 "nbformat_minor": 4
}
